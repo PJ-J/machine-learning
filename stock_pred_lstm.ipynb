{
 "cells": [
  {
   "cell_type": "code",
   "execution_count": 3,
   "metadata": {},
   "outputs": [
    {
     "name": "stdout",
     "output_type": "stream",
     "text": [
      "Requirement already satisfied: tensorflow in c:\\users\\pjjon\\appdata\\local\\programs\\python\\python310\\lib\\site-packages (2.8.0)\n",
      "Requirement already satisfied: grpcio<2.0,>=1.24.3 in c:\\users\\pjjon\\appdata\\local\\programs\\python\\python310\\lib\\site-packages (from tensorflow) (1.44.0)\n",
      "Requirement already satisfied: typing-extensions>=3.6.6 in c:\\users\\pjjon\\appdata\\local\\programs\\python\\python310\\lib\\site-packages (from tensorflow) (4.2.0)\n",
      "Requirement already satisfied: tf-estimator-nightly==2.8.0.dev2021122109 in c:\\users\\pjjon\\appdata\\local\\programs\\python\\python310\\lib\\site-packages (from tensorflow) (2.8.0.dev2021122109)\n",
      "Requirement already satisfied: setuptools in c:\\users\\pjjon\\appdata\\local\\programs\\python\\python310\\lib\\site-packages (from tensorflow) (57.4.0)\n",
      "Requirement already satisfied: six>=1.12.0 in c:\\users\\pjjon\\appdata\\local\\programs\\python\\python310\\lib\\site-packages (from tensorflow) (1.16.0)\n",
      "Requirement already satisfied: wrapt>=1.11.0 in c:\\users\\pjjon\\appdata\\local\\programs\\python\\python310\\lib\\site-packages (from tensorflow) (1.14.0)\n",
      "Requirement already satisfied: google-pasta>=0.1.1 in c:\\users\\pjjon\\appdata\\local\\programs\\python\\python310\\lib\\site-packages (from tensorflow) (0.2.0)\n",
      "Requirement already satisfied: keras-preprocessing>=1.1.1 in c:\\users\\pjjon\\appdata\\local\\programs\\python\\python310\\lib\\site-packages (from tensorflow) (1.1.2)\n",
      "Requirement already satisfied: tensorboard<2.9,>=2.8 in c:\\users\\pjjon\\appdata\\local\\programs\\python\\python310\\lib\\site-packages (from tensorflow) (2.8.0)\n",
      "Requirement already satisfied: numpy>=1.20 in c:\\users\\pjjon\\appdata\\local\\programs\\python\\python310\\lib\\site-packages (from tensorflow) (1.22.3)\n",
      "Requirement already satisfied: termcolor>=1.1.0 in c:\\users\\pjjon\\appdata\\local\\programs\\python\\python310\\lib\\site-packages (from tensorflow) (1.1.0)\n",
      "Requirement already satisfied: tensorflow-io-gcs-filesystem>=0.23.1 in c:\\users\\pjjon\\appdata\\local\\programs\\python\\python310\\lib\\site-packages (from tensorflow) (0.25.0)\n",
      "Requirement already satisfied: gast>=0.2.1 in c:\\users\\pjjon\\appdata\\local\\programs\\python\\python310\\lib\\site-packages (from tensorflow) (0.5.3)\n",
      "Requirement already satisfied: opt-einsum>=2.3.2 in c:\\users\\pjjon\\appdata\\local\\programs\\python\\python310\\lib\\site-packages (from tensorflow) (3.3.0)\n",
      "Requirement already satisfied: protobuf>=3.9.2 in c:\\users\\pjjon\\appdata\\local\\programs\\python\\python310\\lib\\site-packages (from tensorflow) (3.20.1)\n",
      "Requirement already satisfied: absl-py>=0.4.0 in c:\\users\\pjjon\\appdata\\local\\programs\\python\\python310\\lib\\site-packages (from tensorflow) (1.0.0)\n",
      "Requirement already satisfied: libclang>=9.0.1 in c:\\users\\pjjon\\appdata\\local\\programs\\python\\python310\\lib\\site-packages (from tensorflow) (14.0.1)\n",
      "Requirement already satisfied: h5py>=2.9.0 in c:\\users\\pjjon\\appdata\\local\\programs\\python\\python310\\lib\\site-packages (from tensorflow) (3.6.0)\n",
      "Requirement already satisfied: keras<2.9,>=2.8.0rc0 in c:\\users\\pjjon\\appdata\\local\\programs\\python\\python310\\lib\\site-packages (from tensorflow) (2.8.0)\n",
      "Requirement already satisfied: astunparse>=1.6.0 in c:\\users\\pjjon\\appdata\\local\\programs\\python\\python310\\lib\\site-packages (from tensorflow) (1.6.3)\n",
      "Requirement already satisfied: flatbuffers>=1.12 in c:\\users\\pjjon\\appdata\\local\\programs\\python\\python310\\lib\\site-packages (from tensorflow) (2.0)\n",
      "Requirement already satisfied: wheel<1.0,>=0.23.0 in c:\\users\\pjjon\\appdata\\local\\programs\\python\\python310\\lib\\site-packages (from astunparse>=1.6.0->tensorflow) (0.37.1)\n",
      "Requirement already satisfied: requests<3,>=2.21.0 in c:\\users\\pjjon\\appdata\\local\\programs\\python\\python310\\lib\\site-packages (from tensorboard<2.9,>=2.8->tensorflow) (2.27.1)\n",
      "Requirement already satisfied: werkzeug>=0.11.15 in c:\\users\\pjjon\\appdata\\local\\programs\\python\\python310\\lib\\site-packages (from tensorboard<2.9,>=2.8->tensorflow) (2.1.1)\n",
      "Requirement already satisfied: google-auth-oauthlib<0.5,>=0.4.1 in c:\\users\\pjjon\\appdata\\local\\programs\\python\\python310\\lib\\site-packages (from tensorboard<2.9,>=2.8->tensorflow) (0.4.6)\n",
      "Requirement already satisfied: tensorboard-plugin-wit>=1.6.0 in c:\\users\\pjjon\\appdata\\local\\programs\\python\\python310\\lib\\site-packages (from tensorboard<2.9,>=2.8->tensorflow) (1.8.1)\n",
      "Requirement already satisfied: google-auth<3,>=1.6.3 in c:\\users\\pjjon\\appdata\\local\\programs\\python\\python310\\lib\\site-packages (from tensorboard<2.9,>=2.8->tensorflow) (2.6.6)\n",
      "Requirement already satisfied: markdown>=2.6.8 in c:\\users\\pjjon\\appdata\\local\\programs\\python\\python310\\lib\\site-packages (from tensorboard<2.9,>=2.8->tensorflow) (3.3.6)\n",
      "Requirement already satisfied: tensorboard-data-server<0.7.0,>=0.6.0 in c:\\users\\pjjon\\appdata\\local\\programs\\python\\python310\\lib\\site-packages (from tensorboard<2.9,>=2.8->tensorflow) (0.6.1)\n",
      "Requirement already satisfied: pyasn1-modules>=0.2.1 in c:\\users\\pjjon\\appdata\\local\\programs\\python\\python310\\lib\\site-packages (from google-auth<3,>=1.6.3->tensorboard<2.9,>=2.8->tensorflow) (0.2.8)\n",
      "Requirement already satisfied: rsa<5,>=3.1.4 in c:\\users\\pjjon\\appdata\\local\\programs\\python\\python310\\lib\\site-packages (from google-auth<3,>=1.6.3->tensorboard<2.9,>=2.8->tensorflow) (4.8)\n",
      "Requirement already satisfied: cachetools<6.0,>=2.0.0 in c:\\users\\pjjon\\appdata\\local\\programs\\python\\python310\\lib\\site-packages (from google-auth<3,>=1.6.3->tensorboard<2.9,>=2.8->tensorflow) (5.0.0)\n",
      "Requirement already satisfied: requests-oauthlib>=0.7.0 in c:\\users\\pjjon\\appdata\\local\\programs\\python\\python310\\lib\\site-packages (from google-auth-oauthlib<0.5,>=0.4.1->tensorboard<2.9,>=2.8->tensorflow) (1.3.1)\n",
      "Requirement already satisfied: urllib3<1.27,>=1.21.1 in c:\\users\\pjjon\\appdata\\local\\programs\\python\\python310\\lib\\site-packages (from requests<3,>=2.21.0->tensorboard<2.9,>=2.8->tensorflow) (1.26.9)\n",
      "Requirement already satisfied: certifi>=2017.4.17 in c:\\users\\pjjon\\appdata\\local\\programs\\python\\python310\\lib\\site-packages (from requests<3,>=2.21.0->tensorboard<2.9,>=2.8->tensorflow) (2021.10.8)\n",
      "Requirement already satisfied: idna<4,>=2.5 in c:\\users\\pjjon\\appdata\\local\\programs\\python\\python310\\lib\\site-packages (from requests<3,>=2.21.0->tensorboard<2.9,>=2.8->tensorflow) (3.3)\n",
      "Requirement already satisfied: charset-normalizer~=2.0.0 in c:\\users\\pjjon\\appdata\\local\\programs\\python\\python310\\lib\\site-packages (from requests<3,>=2.21.0->tensorboard<2.9,>=2.8->tensorflow) (2.0.12)\n",
      "Requirement already satisfied: pyasn1<0.5.0,>=0.4.6 in c:\\users\\pjjon\\appdata\\local\\programs\\python\\python310\\lib\\site-packages (from pyasn1-modules>=0.2.1->google-auth<3,>=1.6.3->tensorboard<2.9,>=2.8->tensorflow) (0.4.8)\n",
      "Requirement already satisfied: oauthlib>=3.0.0 in c:\\users\\pjjon\\appdata\\local\\programs\\python\\python310\\lib\\site-packages (from requests-oauthlib>=0.7.0->google-auth-oauthlib<0.5,>=0.4.1->tensorboard<2.9,>=2.8->tensorflow) (3.2.0)\n",
      "Note: you may need to restart the kernel to use updated packages.\n"
     ]
    }
   ],
   "source": [
    "%pip install tensorflow"
   ]
  },
  {
   "cell_type": "code",
   "execution_count": 1,
   "metadata": {},
   "outputs": [],
   "source": [
    "import math\n",
    "import pandas_datareader as web\n",
    "import numpy as np\n",
    "import pandas as pd\n",
    "from sklearn.preprocessing import MinMaxScaler\n",
    "from keras.models import Sequential\n",
    "from keras.layers import Dense, LSTM\n",
    "import matplotlib.pyplot as plt\n",
    "plt.style.use('fivethirtyeight')"
   ]
  },
  {
   "cell_type": "code",
   "execution_count": 2,
   "metadata": {},
   "outputs": [
    {
     "data": {
      "text/html": [
       "<div>\n",
       "<style scoped>\n",
       "    .dataframe tbody tr th:only-of-type {\n",
       "        vertical-align: middle;\n",
       "    }\n",
       "\n",
       "    .dataframe tbody tr th {\n",
       "        vertical-align: top;\n",
       "    }\n",
       "\n",
       "    .dataframe thead th {\n",
       "        text-align: right;\n",
       "    }\n",
       "</style>\n",
       "<table border=\"1\" class=\"dataframe\">\n",
       "  <thead>\n",
       "    <tr style=\"text-align: right;\">\n",
       "      <th></th>\n",
       "      <th>High</th>\n",
       "      <th>Low</th>\n",
       "      <th>Open</th>\n",
       "      <th>Close</th>\n",
       "      <th>Volume</th>\n",
       "      <th>Adj Close</th>\n",
       "    </tr>\n",
       "    <tr>\n",
       "      <th>Date</th>\n",
       "      <th></th>\n",
       "      <th></th>\n",
       "      <th></th>\n",
       "      <th></th>\n",
       "      <th></th>\n",
       "      <th></th>\n",
       "    </tr>\n",
       "  </thead>\n",
       "  <tbody>\n",
       "    <tr>\n",
       "      <th>2012-01-03</th>\n",
       "      <td>14.732143</td>\n",
       "      <td>14.607143</td>\n",
       "      <td>14.621429</td>\n",
       "      <td>14.686786</td>\n",
       "      <td>302220800.0</td>\n",
       "      <td>12.575915</td>\n",
       "    </tr>\n",
       "    <tr>\n",
       "      <th>2012-01-04</th>\n",
       "      <td>14.810000</td>\n",
       "      <td>14.617143</td>\n",
       "      <td>14.642857</td>\n",
       "      <td>14.765714</td>\n",
       "      <td>260022000.0</td>\n",
       "      <td>12.643498</td>\n",
       "    </tr>\n",
       "    <tr>\n",
       "      <th>2012-01-05</th>\n",
       "      <td>14.948214</td>\n",
       "      <td>14.738214</td>\n",
       "      <td>14.819643</td>\n",
       "      <td>14.929643</td>\n",
       "      <td>271269600.0</td>\n",
       "      <td>12.783866</td>\n",
       "    </tr>\n",
       "    <tr>\n",
       "      <th>2012-01-06</th>\n",
       "      <td>15.098214</td>\n",
       "      <td>14.972143</td>\n",
       "      <td>14.991786</td>\n",
       "      <td>15.085714</td>\n",
       "      <td>318292800.0</td>\n",
       "      <td>12.917508</td>\n",
       "    </tr>\n",
       "    <tr>\n",
       "      <th>2012-01-09</th>\n",
       "      <td>15.276786</td>\n",
       "      <td>15.048214</td>\n",
       "      <td>15.196429</td>\n",
       "      <td>15.061786</td>\n",
       "      <td>394024400.0</td>\n",
       "      <td>12.897017</td>\n",
       "    </tr>\n",
       "    <tr>\n",
       "      <th>...</th>\n",
       "      <td>...</td>\n",
       "      <td>...</td>\n",
       "      <td>...</td>\n",
       "      <td>...</td>\n",
       "      <td>...</td>\n",
       "      <td>...</td>\n",
       "    </tr>\n",
       "    <tr>\n",
       "      <th>2022-04-18</th>\n",
       "      <td>166.600006</td>\n",
       "      <td>163.570007</td>\n",
       "      <td>163.919998</td>\n",
       "      <td>165.070007</td>\n",
       "      <td>69023900.0</td>\n",
       "      <td>165.070007</td>\n",
       "    </tr>\n",
       "    <tr>\n",
       "      <th>2022-04-19</th>\n",
       "      <td>167.820007</td>\n",
       "      <td>163.910004</td>\n",
       "      <td>165.020004</td>\n",
       "      <td>167.399994</td>\n",
       "      <td>67723800.0</td>\n",
       "      <td>167.399994</td>\n",
       "    </tr>\n",
       "    <tr>\n",
       "      <th>2022-04-20</th>\n",
       "      <td>168.880005</td>\n",
       "      <td>166.100006</td>\n",
       "      <td>168.759995</td>\n",
       "      <td>167.229996</td>\n",
       "      <td>67929800.0</td>\n",
       "      <td>167.229996</td>\n",
       "    </tr>\n",
       "    <tr>\n",
       "      <th>2022-04-21</th>\n",
       "      <td>171.529999</td>\n",
       "      <td>165.910004</td>\n",
       "      <td>168.910004</td>\n",
       "      <td>166.419998</td>\n",
       "      <td>87227800.0</td>\n",
       "      <td>166.419998</td>\n",
       "    </tr>\n",
       "    <tr>\n",
       "      <th>2022-04-22</th>\n",
       "      <td>167.869995</td>\n",
       "      <td>161.500000</td>\n",
       "      <td>166.460007</td>\n",
       "      <td>161.789993</td>\n",
       "      <td>84775200.0</td>\n",
       "      <td>161.789993</td>\n",
       "    </tr>\n",
       "  </tbody>\n",
       "</table>\n",
       "<p>2594 rows × 6 columns</p>\n",
       "</div>"
      ],
      "text/plain": [
       "                  High         Low        Open       Close       Volume   Adj Close\n",
       "Date                                                                               \n",
       "2012-01-03   14.732143   14.607143   14.621429   14.686786  302220800.0   12.575915\n",
       "2012-01-04   14.810000   14.617143   14.642857   14.765714  260022000.0   12.643498\n",
       "2012-01-05   14.948214   14.738214   14.819643   14.929643  271269600.0   12.783866\n",
       "2012-01-06   15.098214   14.972143   14.991786   15.085714  318292800.0   12.917508\n",
       "2012-01-09   15.276786   15.048214   15.196429   15.061786  394024400.0   12.897017\n",
       "...                ...         ...         ...         ...          ...         ...\n",
       "2022-04-18  166.600006  163.570007  163.919998  165.070007   69023900.0  165.070007\n",
       "2022-04-19  167.820007  163.910004  165.020004  167.399994   67723800.0  167.399994\n",
       "2022-04-20  168.880005  166.100006  168.759995  167.229996   67929800.0  167.229996\n",
       "2022-04-21  171.529999  165.910004  168.910004  166.419998   87227800.0  166.419998\n",
       "2022-04-22  167.869995  161.500000  166.460007  161.789993   84775200.0  161.789993\n",
       "\n",
       "[2594 rows x 6 columns]"
      ]
     },
     "execution_count": 2,
     "metadata": {},
     "output_type": "execute_result"
    }
   ],
   "source": [
    "#get stock quote\n",
    "df = web.DataReader('AAPL', data_source='yahoo', start='2012-01-01', end='2022-04-22')\n",
    "df"
   ]
  },
  {
   "cell_type": "code",
   "execution_count": 3,
   "metadata": {},
   "outputs": [
    {
     "data": {
      "text/plain": [
       "(2594, 6)"
      ]
     },
     "execution_count": 3,
     "metadata": {},
     "output_type": "execute_result"
    }
   ],
   "source": [
    "df.shape"
   ]
  },
  {
   "cell_type": "code",
   "execution_count": 4,
   "metadata": {},
   "outputs": [
    {
     "data": {
      "image/png": "[encoded data removed]",
      "text/plain": [
       "<Figure size 1152x576 with 1 Axes>"
      ]
     },
     "metadata": {},
     "output_type": "display_data"
    }
   ],
   "source": [
    "plt.figure(figsize=(16,8))\n",
    "plt.title('close price history')\n",
    "plt.plot(df['Close'])\n",
    "plt.xlabel('Date', fontsize=18)\n",
    "plt.ylabel('Close Price USD ($)', fontsize=18)\n",
    "plt.show()"
   ]
  },
  {
   "cell_type": "code",
   "execution_count": 5,
   "metadata": {},
   "outputs": [
    {
     "data": {
      "text/plain": [
       "2076"
      ]
     },
     "execution_count": 5,
     "metadata": {},
     "output_type": "execute_result"
    }
   ],
   "source": [
    "#create new df with only close col\n",
    "data = df.filter(['Close'])\n",
    "#convert to numpy arr\n",
    "dataset = data.values\n",
    "#get number of rows to train model on\n",
    "training_data_len = math.ceil(len(dataset) * 0.8)\n",
    "\n",
    "training_data_len"
   ]
  },
  {
   "cell_type": "code",
   "execution_count": 6,
   "metadata": {},
   "outputs": [
    {
     "data": {
      "text/plain": [
       "array([[0.00439887],\n",
       "       [0.00486851],\n",
       "       [0.00584391],\n",
       "       ...,\n",
       "       [0.91205653],\n",
       "       [0.90723691],\n",
       "       [0.8796876 ]])"
      ]
     },
     "execution_count": 6,
     "metadata": {},
     "output_type": "execute_result"
    }
   ],
   "source": [
    "#scale the data\n",
    "scaler = MinMaxScaler(feature_range=(0,1))\n",
    "scaled_data = scaler.fit_transform(dataset)\n",
    "\n",
    "scaled_data"
   ]
  },
  {
   "cell_type": "code",
   "execution_count": 8,
   "metadata": {},
   "outputs": [
    {
     "name": "stdout",
     "output_type": "stream",
     "text": [
      "[array([0.00439887, 0.00486851, 0.00584391, 0.00677256, 0.00663019,\n",
      "       0.00695107, 0.00680444, 0.00655793, 0.00622217, 0.00726133,\n",
      "       0.00819848, 0.00790947, 0.0063263 , 0.00783722, 0.00634968,\n",
      "       0.01192796, 0.01149658, 0.01205972, 0.01327737, 0.01401476,\n",
      "       0.01395314, 0.01372576, 0.01469479, 0.01560643, 0.01663922,\n",
      "       0.01830739, 0.02181161, 0.02186474, 0.02381555, 0.02527333,\n",
      "       0.0227679 , 0.02373267, 0.02371354, 0.02641875, 0.02603411,\n",
      "       0.026746  , 0.02802528, 0.02873719, 0.03078787, 0.03228178,\n",
      "       0.03271317, 0.03286405, 0.03030973, 0.02969346, 0.02978484,\n",
      "       0.03218616, 0.03286193, 0.03431335, 0.03773469, 0.04229932,\n",
      "       0.04144504, 0.04144716, 0.04474738, 0.04578017, 0.04504489,\n",
      "       0.04437338, 0.04367423, 0.04599691, 0.04759072, 0.04825798])]\n",
      "[0.04660893460974819]\n",
      "\n",
      "[array([0.00439887, 0.00486851, 0.00584391, 0.00677256, 0.00663019,\n",
      "       0.00695107, 0.00680444, 0.00655793, 0.00622217, 0.00726133,\n",
      "       0.00819848, 0.00790947, 0.0063263 , 0.00783722, 0.00634968,\n",
      "       0.01192796, 0.01149658, 0.01205972, 0.01327737, 0.01401476,\n",
      "       0.01395314, 0.01372576, 0.01469479, 0.01560643, 0.01663922,\n",
      "       0.01830739, 0.02181161, 0.02186474, 0.02381555, 0.02527333,\n",
      "       0.0227679 , 0.02373267, 0.02371354, 0.02641875, 0.02603411,\n",
      "       0.026746  , 0.02802528, 0.02873719, 0.03078787, 0.03228178,\n",
      "       0.03271317, 0.03286405, 0.03030973, 0.02969346, 0.02978484,\n",
      "       0.03218616, 0.03286193, 0.03431335, 0.03773469, 0.04229932,\n",
      "       0.04144504, 0.04144716, 0.04474738, 0.04578017, 0.04504489,\n",
      "       0.04437338, 0.04367423, 0.04599691, 0.04759072, 0.04825798]), array([0.00486851, 0.00584391, 0.00677256, 0.00663019, 0.00695107,\n",
      "       0.00680444, 0.00655793, 0.00622217, 0.00726133, 0.00819848,\n",
      "       0.00790947, 0.0063263 , 0.00783722, 0.00634968, 0.01192796,\n",
      "       0.01149658, 0.01205972, 0.01327737, 0.01401476, 0.01395314,\n",
      "       0.01372576, 0.01469479, 0.01560643, 0.01663922, 0.01830739,\n",
      "       0.02181161, 0.02186474, 0.02381555, 0.02527333, 0.0227679 ,\n",
      "       0.02373267, 0.02371354, 0.02641875, 0.02603411, 0.026746  ,\n",
      "       0.02802528, 0.02873719, 0.03078787, 0.03228178, 0.03271317,\n",
      "       0.03286405, 0.03030973, 0.02969346, 0.02978484, 0.03218616,\n",
      "       0.03286193, 0.03431335, 0.03773469, 0.04229932, 0.04144504,\n",
      "       0.04144716, 0.04474738, 0.04578017, 0.04504489, 0.04437338,\n",
      "       0.04367423, 0.04599691, 0.04759072, 0.04825798, 0.04660893])]\n",
      "[0.04660893460974819, 0.04441800167645807]\n",
      "\n"
     ]
    }
   ],
   "source": [
    "#create training data set\n",
    "# create scaled training data set\n",
    "train_data = scaled_data[0:training_data_len , :]\n",
    "#split data into x_train and y_train\n",
    "x_train = []\n",
    "y_train = []\n",
    "\n",
    "for i in range(60, len(train_data)):\n",
    "  x_train.append(train_data[i-60:i, 0])\n",
    "  y_train.append(train_data[i,0])\n",
    "  if i<= 61:\n",
    "    print(x_train)\n",
    "    print(y_train)\n",
    "    print()"
   ]
  },
  {
   "cell_type": "code",
   "execution_count": 9,
   "metadata": {},
   "outputs": [],
   "source": [
    "# convert x_train and y_train to numpy arrs\n",
    "x_train, y_train = np.array(x_train), np.array(y_train)"
   ]
  },
  {
   "cell_type": "code",
   "execution_count": 10,
   "metadata": {},
   "outputs": [
    {
     "data": {
      "text/plain": [
       "(2016, 60, 1)"
      ]
     },
     "execution_count": 10,
     "metadata": {},
     "output_type": "execute_result"
    }
   ],
   "source": [
    "# reshape data\n",
    "x_train = np.reshape(x_train, (x_train.shape[0], x_train.shape[1], 1))\n",
    "x_train.shape"
   ]
  },
  {
   "cell_type": "code",
   "execution_count": 12,
   "metadata": {},
   "outputs": [],
   "source": [
    "#build the LSTM model\n",
    "model = Sequential()\n",
    "model.add(LSTM(50, return_sequences=True, input_shape=(x_train.shape[1], 1)))\n",
    "model.add(LSTM(50, return_sequences=False))\n",
    "model.add(Dense(25))\n",
    "model.add(Dense(1))"
   ]
  },
  {
   "cell_type": "code",
   "execution_count": 13,
   "metadata": {},
   "outputs": [],
   "source": [
    "# compile the model\n",
    "model.compile(optimizer='adam', loss='mean_squared_error')"
   ]
  },
  {
   "cell_type": "code",
   "execution_count": 14,
   "metadata": {},
   "outputs": [
    {
     "name": "stdout",
     "output_type": "stream",
     "text": [
      "2016/2016 [==============================] - 27s 13ms/step - loss: 2.8296e-04\n"
     ]
    },
    {
     "data": {
      "text/plain": [
       "<keras.callbacks.History at 0x190ba59d3f0>"
      ]
     },
     "execution_count": 14,
     "metadata": {},
     "output_type": "execute_result"
    }
   ],
   "source": [
    "# train the model\n",
    "model.fit(x_train, y_train, batch_size=1, epochs=1)"
   ]
  },
  {
   "cell_type": "code",
   "execution_count": 15,
   "metadata": {},
   "outputs": [],
   "source": [
    "# create the testing data set\n",
    "# create a new array containing scaled vals from index 2016 to 2076\n",
    "test_data = scaled_data[training_data_len - 60: , :]\n",
    "#create the data sets x_test and y_test\n",
    "x_test = []\n",
    "y_test = dataset[training_data_len:, :]\n",
    "for i in range(60, len(test_data)):\n",
    "  x_test.append(test_data[i-60:i, 0])"
   ]
  },
  {
   "cell_type": "code",
   "execution_count": 16,
   "metadata": {},
   "outputs": [],
   "source": [
    "# convert data to numpy arr\n",
    "x_test = np.array(x_test)"
   ]
  },
  {
   "cell_type": "code",
   "execution_count": 17,
   "metadata": {},
   "outputs": [],
   "source": [
    "# reshape the data\n",
    "x_test = np.reshape(x_test, (x_test.shape[0], x_test.shape[1], 1))"
   ]
  },
  {
   "cell_type": "code",
   "execution_count": 18,
   "metadata": {},
   "outputs": [],
   "source": [
    "# get the model's pred price vals\n",
    "predictions = model.predict(x_test)\n",
    "predictions = scaler.inverse_transform(predictions)"
   ]
  },
  {
   "cell_type": "code",
   "execution_count": 19,
   "metadata": {},
   "outputs": [
    {
     "data": {
      "text/plain": [
       "15.314880349000909"
      ]
     },
     "execution_count": 19,
     "metadata": {},
     "output_type": "execute_result"
    }
   ],
   "source": [
    "# get the root mean squared error (RMSE)\n",
    "rmse = np.sqrt( np.mean( predictions - y_test )**2)\n",
    "rmse"
   ]
  },
  {
   "cell_type": "code",
   "execution_count": 21,
   "metadata": {},
   "outputs": [
    {
     "name": "stderr",
     "output_type": "stream",
     "text": [
      "C:\\Users\\pjjon\\AppData\\Local\\Temp\\ipykernel_17160\\3172122601.py:4: SettingWithCopyWarning: \n",
      "A value is trying to be set on a copy of a slice from a DataFrame.\n",
      "Try using .loc[row_indexer,col_indexer] = value instead\n",
      "\n",
      "See the caveats in the documentation: https://pandas.pydata.org/pandas-docs/stable/user_guide/indexing.html#returning-a-view-versus-a-copy\n",
      "  valid['Predictions'] = predictions\n"
     ]
    },
    {
     "data": {
      "image/png": "[encoded data removed]",
      "text/plain": [
       "<Figure size 1152x576 with 1 Axes>"
      ]
     },
     "metadata": {},
     "output_type": "display_data"
    }
   ],
   "source": [
    "# plot the data\n",
    "train = data[:training_data_len]\n",
    "valid = data[training_data_len:]\n",
    "valid['Predictions'] = predictions\n",
    "# visualize the data\n",
    "plt.figure(figsize=(16,8))\n",
    "plt.title('Model')\n",
    "plt.xlabel('Date', fontsize=18)\n",
    "plt.ylabel('Close Price USD ($)', fontsize=18)\n",
    "plt.plot(train['Close'])\n",
    "plt.plot(valid[['Close', 'Predictions']])\n",
    "plt.legend(['Train', 'Val', 'Predictions'], loc='lower right')\n",
    "plt.show()\n"
   ]
  },
  {
   "cell_type": "code",
   "execution_count": 22,
   "metadata": {},
   "outputs": [
    {
     "data": {
      "text/html": [
       "<div>\n",
       "<style scoped>\n",
       "    .dataframe tbody tr th:only-of-type {\n",
       "        vertical-align: middle;\n",
       "    }\n",
       "\n",
       "    .dataframe tbody tr th {\n",
       "        vertical-align: top;\n",
       "    }\n",
       "\n",
       "    .dataframe thead th {\n",
       "        text-align: right;\n",
       "    }\n",
       "</style>\n",
       "<table border=\"1\" class=\"dataframe\">\n",
       "  <thead>\n",
       "    <tr style=\"text-align: right;\">\n",
       "      <th></th>\n",
       "      <th>Close</th>\n",
       "      <th>Predictions</th>\n",
       "    </tr>\n",
       "    <tr>\n",
       "      <th>Date</th>\n",
       "      <th></th>\n",
       "      <th></th>\n",
       "    </tr>\n",
       "  </thead>\n",
       "  <tbody>\n",
       "    <tr>\n",
       "      <th>2020-04-03</th>\n",
       "      <td>60.352501</td>\n",
       "      <td>59.225361</td>\n",
       "    </tr>\n",
       "    <tr>\n",
       "      <th>2020-04-06</th>\n",
       "      <td>65.617500</td>\n",
       "      <td>59.075848</td>\n",
       "    </tr>\n",
       "    <tr>\n",
       "      <th>2020-04-07</th>\n",
       "      <td>64.857498</td>\n",
       "      <td>59.370029</td>\n",
       "    </tr>\n",
       "    <tr>\n",
       "      <th>2020-04-08</th>\n",
       "      <td>66.517502</td>\n",
       "      <td>59.807014</td>\n",
       "    </tr>\n",
       "    <tr>\n",
       "      <th>2020-04-09</th>\n",
       "      <td>66.997498</td>\n",
       "      <td>60.453876</td>\n",
       "    </tr>\n",
       "    <tr>\n",
       "      <th>...</th>\n",
       "      <td>...</td>\n",
       "      <td>...</td>\n",
       "    </tr>\n",
       "    <tr>\n",
       "      <th>2022-04-18</th>\n",
       "      <td>165.070007</td>\n",
       "      <td>145.145859</td>\n",
       "    </tr>\n",
       "    <tr>\n",
       "      <th>2022-04-19</th>\n",
       "      <td>167.399994</td>\n",
       "      <td>144.300110</td>\n",
       "    </tr>\n",
       "    <tr>\n",
       "      <th>2022-04-20</th>\n",
       "      <td>167.229996</td>\n",
       "      <td>143.845215</td>\n",
       "    </tr>\n",
       "    <tr>\n",
       "      <th>2022-04-21</th>\n",
       "      <td>166.419998</td>\n",
       "      <td>143.626938</td>\n",
       "    </tr>\n",
       "    <tr>\n",
       "      <th>2022-04-22</th>\n",
       "      <td>161.789993</td>\n",
       "      <td>143.491058</td>\n",
       "    </tr>\n",
       "  </tbody>\n",
       "</table>\n",
       "<p>518 rows × 2 columns</p>\n",
       "</div>"
      ],
      "text/plain": [
       "                 Close  Predictions\n",
       "Date                               \n",
       "2020-04-03   60.352501    59.225361\n",
       "2020-04-06   65.617500    59.075848\n",
       "2020-04-07   64.857498    59.370029\n",
       "2020-04-08   66.517502    59.807014\n",
       "2020-04-09   66.997498    60.453876\n",
       "...                ...          ...\n",
       "2022-04-18  165.070007   145.145859\n",
       "2022-04-19  167.399994   144.300110\n",
       "2022-04-20  167.229996   143.845215\n",
       "2022-04-21  166.419998   143.626938\n",
       "2022-04-22  161.789993   143.491058\n",
       "\n",
       "[518 rows x 2 columns]"
      ]
     },
     "execution_count": 22,
     "metadata": {},
     "output_type": "execute_result"
    }
   ],
   "source": [
    "# show the valid and predicted prices\n",
    "valid"
   ]
  },
  {
   "cell_type": "code",
   "execution_count": 23,
   "metadata": {},
   "outputs": [
    {
     "name": "stdout",
     "output_type": "stream",
     "text": [
      "[[142.93211]]\n"
     ]
    }
   ],
   "source": [
    "# get the quote\n",
    "apple_quote = web.DataReader('AAPL', data_source='yahoo', start='2012-01-01', end='2022-04-22')\n",
    "# create new dataframe\n",
    "new_df = apple_quote.filter(['Close'])\n",
    "# get the last 60 day closing price vals and convert to arr\n",
    "last_60_days = new_df[-60:].values\n",
    "#scale the data to be vals bw 0 and 1\n",
    "last_60_days_scaled = scaler.transform(last_60_days)\n",
    "# create empty list\n",
    "X_test = []\n",
    "# append last 60 days \n",
    "X_test.append(last_60_days_scaled)\n",
    "# convert to numpy arr\n",
    "X_test = np.array(X_test)\n",
    "# reshape data\n",
    "X_test = np.reshape(X_test, (X_test.shape[0], X_test.shape[1], 1))\n",
    "# get predicted scaled price\n",
    "pred_price = model.predict(X_test)\n",
    "# undo the scaling\n",
    "pred_price = scaler.inverse_transform(pred_price)\n",
    "print(pred_price)"
   ]
  },
  {
   "cell_type": "code",
   "execution_count": 24,
   "metadata": {},
   "outputs": [
    {
     "name": "stdout",
     "output_type": "stream",
     "text": [
      "Date\n",
      "2022-04-22    161.789993\n",
      "Name: Close, dtype: float64\n"
     ]
    }
   ],
   "source": [
    "# get the quote\n",
    "apple_quote2 = web.DataReader('AAPL', data_source='yahoo', start='2022-04-22', end='2022-04-22')\n",
    "print(apple_quote2['Close'])"
   ]
  }
 ],
 "metadata": {
  "interpreter": {
   "hash": "2d7a9003285a983250f0a926ec3f4bf75fa26e87f4be2beb18a98980514f79dc"
  },
  "kernelspec": {
   "display_name": "Python 3.10.0 64-bit",
   "language": "python",
   "name": "python3"
  },
  "language_info": {
   "codemirror_mode": {
    "name": "ipython",
    "version": 3
   },
   "file_extension": ".py",
   "mimetype": "text/x-python",
   "name": "python",
   "nbconvert_exporter": "python",
   "pygments_lexer": "ipython3",
   "version": "3.10.0"
  },
  "orig_nbformat": 4
 },
 "nbformat": 4,
 "nbformat_minor": 2
}
