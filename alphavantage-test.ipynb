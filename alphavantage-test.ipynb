{
 "cells": [
  {
   "cell_type": "code",
   "execution_count": 2,
   "metadata": {},
   "outputs": [
    {
     "name": "stdout",
     "output_type": "stream",
     "text": [
      "Collecting alpha-vantage\n",
      "  Downloading alpha_vantage-2.3.1-py3-none-any.whl (31 kB)\n",
      "Requirement already satisfied: requests in c:\\users\\pjjon\\appdata\\local\\programs\\python\\python310\\lib\\site-packages (from alpha-vantage) (2.27.1)\n",
      "Collecting aiohttp\n",
      "  Downloading aiohttp-3.8.1-cp310-cp310-win_amd64.whl (555 kB)\n",
      "     ---------------------------------------- 555.1/555.1 KB 5.9 MB/s eta 0:00:00\n",
      "Collecting attrs>=17.3.0\n",
      "  Downloading attrs-21.4.0-py2.py3-none-any.whl (60 kB)\n",
      "     ---------------------------------------- 60.6/60.6 KB 3.1 MB/s eta 0:00:00\n",
      "Collecting multidict<7.0,>=4.5\n",
      "  Downloading multidict-6.0.2-cp310-cp310-win_amd64.whl (27 kB)\n",
      "Requirement already satisfied: charset-normalizer<3.0,>=2.0 in c:\\users\\pjjon\\appdata\\local\\programs\\python\\python310\\lib\\site-packages (from aiohttp->alpha-vantage) (2.0.12)\n",
      "Collecting yarl<2.0,>=1.0\n",
      "  Downloading yarl-1.7.2-cp310-cp310-win_amd64.whl (122 kB)\n",
      "     ---------------------------------------- 122.2/122.2 KB 7.0 MB/s eta 0:00:00\n",
      "Collecting aiosignal>=1.1.2\n",
      "  Downloading aiosignal-1.2.0-py3-none-any.whl (8.2 kB)\n",
      "Collecting frozenlist>=1.1.1\n",
      "  Downloading frozenlist-1.3.0-cp310-cp310-win_amd64.whl (33 kB)\n",
      "Collecting async-timeout<5.0,>=4.0.0a3\n",
      "  Downloading async_timeout-4.0.2-py3-none-any.whl (5.8 kB)\n",
      "Requirement already satisfied: idna<4,>=2.5 in c:\\users\\pjjon\\appdata\\local\\programs\\python\\python310\\lib\\site-packages (from requests->alpha-vantage) (3.3)\n",
      "Requirement already satisfied: certifi>=2017.4.17 in c:\\users\\pjjon\\appdata\\local\\programs\\python\\python310\\lib\\site-packages (from requests->alpha-vantage) (2021.10.8)\n",
      "Requirement already satisfied: urllib3<1.27,>=1.21.1 in c:\\users\\pjjon\\appdata\\local\\programs\\python\\python310\\lib\\site-packages (from requests->alpha-vantage) (1.26.9)\n",
      "Installing collected packages: multidict, frozenlist, attrs, async-timeout, yarl, aiosignal, aiohttp, alpha-vantage\n",
      "Successfully installed aiohttp-3.8.1 aiosignal-1.2.0 alpha-vantage-2.3.1 async-timeout-4.0.2 attrs-21.4.0 frozenlist-1.3.0 multidict-6.0.2 yarl-1.7.2\n",
      "Note: you may need to restart the kernel to use updated packages.\n"
     ]
    }
   ],
   "source": [
    "%pip install alpha-vantage"
   ]
  },
  {
   "cell_type": "code",
   "execution_count": 7,
   "metadata": {},
   "outputs": [
    {
     "name": "stdout",
     "output_type": "stream",
     "text": [
      "<class 'alpha_vantage.timeseries.TimeSeries'>\n",
      "            1. open   2. high     3. low  4. close  5. volume\n",
      "date                                                         \n",
      "2022-04-22  2965.00  2992.300  2873.9501   2887.00  3653929.0\n",
      "2022-04-21  3094.28  3134.760  2951.7900   2965.92  3198466.0\n",
      "2022-04-20  3152.05  3152.050  3072.0700   3079.96  2958600.0\n",
      "2022-04-19  3040.59  3172.980  3031.0100   3162.31  2746321.0\n",
      "2022-04-18  3030.47  3080.790  3005.0100   3055.70  2325676.0\n",
      "...             ...       ...        ...       ...        ...\n",
      "2021-12-06  3393.00  3473.910  3338.6900   3427.37  3443000.0\n",
      "2021-12-03  3455.00  3469.865  3338.6000   3389.79  4035550.0\n",
      "2021-12-02  3460.00  3492.700  3423.7500   3437.36  3236288.0\n",
      "2021-12-01  3545.00  3559.880  3441.6000   3443.72  3756995.0\n",
      "2021-11-30  3563.50  3585.770  3492.0100   3507.07  4001107.0\n",
      "\n",
      "[100 rows x 5 columns]\n"
     ]
    }
   ],
   "source": [
    "from alpha_vantage.timeseries import TimeSeries\n",
    "# Create an API object\n",
    "ts = TimeSeries(key='UNO4CZQHSBZSN71N', output_format='pandas')\n",
    "print(type(ts))\n",
    "# Get daily OHLC data for NVDA\n",
    "data, meta_data = ts.get_daily(symbol=\"AMZN\")\n",
    "print(data)\n",
    "\n"
   ]
  }
 ],
 "metadata": {
  "interpreter": {
   "hash": "2d7a9003285a983250f0a926ec3f4bf75fa26e87f4be2beb18a98980514f79dc"
  },
  "kernelspec": {
   "display_name": "Python 3.10.0 64-bit",
   "language": "python",
   "name": "python3"
  },
  "language_info": {
   "codemirror_mode": {
    "name": "ipython",
    "version": 3
   },
   "file_extension": ".py",
   "mimetype": "text/x-python",
   "name": "python",
   "nbconvert_exporter": "python",
   "pygments_lexer": "ipython3",
   "version": "3.10.0"
  },
  "orig_nbformat": 4
 },
 "nbformat": 4,
 "nbformat_minor": 2
}
