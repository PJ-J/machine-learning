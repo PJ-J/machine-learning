{
 "cells": [
  {
   "cell_type": "code",
   "execution_count": 21,
   "metadata": {},
   "outputs": [],
   "source": [
    "import numpy as np \n",
    "import pandas as pd\n",
    "import sklearn\n",
    "from sklearn import linear_model\n",
    "from sklearn.utils import shuffle\n",
    "import matplotlib.pyplot as plt\n",
    "import pickle"
   ]
  },
  {
   "cell_type": "code",
   "execution_count": 12,
   "metadata": {},
   "outputs": [
    {
     "name": "stdout",
     "output_type": "stream",
     "text": [
      "  school sex  age address famsize Pstatus  Medu  Fedu     Mjob      Fjob  ...  \\\n",
      "0     GP   F   18       U     GT3       A     4     4  at_home   teacher  ...   \n",
      "1     GP   F   17       U     GT3       T     1     1  at_home     other  ...   \n",
      "2     GP   F   15       U     LE3       T     1     1  at_home     other  ...   \n",
      "3     GP   F   15       U     GT3       T     4     2   health  services  ...   \n",
      "4     GP   F   16       U     GT3       T     3     3    other     other  ...   \n",
      "\n",
      "  famrel freetime  goout  Dalc  Walc health absences  G1  G2  G3  \n",
      "0      4        3      4     1     1      3        6   5   6   6  \n",
      "1      5        3      3     1     1      3        4   5   5   6  \n",
      "2      4        3      2     2     3      3       10   7   8  10  \n",
      "3      3        2      2     1     1      5        2  15  14  15  \n",
      "4      4        3      2     1     2      5        4   6  10  10  \n",
      "\n",
      "[5 rows x 33 columns]\n"
     ]
    }
   ],
   "source": [
    "data = pd.read_csv(\"data\\student-mat.csv\", sep=\";\")\n",
    "print(data.head())"
   ]
  },
  {
   "cell_type": "code",
   "execution_count": 13,
   "metadata": {},
   "outputs": [
    {
     "name": "stdout",
     "output_type": "stream",
     "text": [
      "   G1  G2  G3  studytime  failures  absences\n",
      "0   5   6   6          2         0         6\n",
      "1   5   5   6          2         0         4\n",
      "2   7   8  10          2         3        10\n",
      "3  15  14  15          3         0         2\n",
      "4   6  10  10          2         0         4\n"
     ]
    }
   ],
   "source": [
    "data = data[[\"G1\", \"G2\", \"G3\", \"studytime\", \"failures\", \"absences\"]]\n",
    "print(data.head(5))"
   ]
  },
  {
   "cell_type": "code",
   "execution_count": 19,
   "metadata": {},
   "outputs": [
    {
     "data": {
      "text/plain": [
       "<matplotlib.collections.PathCollection at 0x25fdb35e350>"
      ]
     },
     "execution_count": 19,
     "metadata": {},
     "output_type": "execute_result"
    },
    {
     "data": {
      "image/png": "[encoded data removed]",
      "text/plain": [
       "<Figure size 432x288 with 1 Axes>"
      ]
     },
     "metadata": {
      "needs_background": "light"
     },
     "output_type": "display_data"
    }
   ],
   "source": [
    "plt.scatter(data.studytime, data.G3, color='aqua')"
   ]
  },
  {
   "cell_type": "code",
   "execution_count": 14,
   "metadata": {},
   "outputs": [
    {
     "name": "stderr",
     "output_type": "stream",
     "text": [
      "C:\\Users\\pjjon\\AppData\\Local\\Temp\\ipykernel_20484\\2960945942.py:3: FutureWarning: In a future version of pandas all arguments of DataFrame.drop except for the argument 'labels' will be keyword-only.\n",
      "  X = np.array(data.drop([predict], 1))\n"
     ]
    }
   ],
   "source": [
    "predict = \"G3\"\n",
    "\n",
    "X = np.array(data.drop([predict], 1)) #this array contains features\n",
    "y = np.array(data[predict]) # this array contains labels"
   ]
  },
  {
   "cell_type": "code",
   "execution_count": 15,
   "metadata": {},
   "outputs": [],
   "source": [
    "x_train, x_test, y_train, y_test = sklearn.model_selection.train_test_split(X, y, test_size=0.1)"
   ]
  },
  {
   "cell_type": "code",
   "execution_count": 16,
   "metadata": {},
   "outputs": [
    {
     "name": "stdout",
     "output_type": "stream",
     "text": [
      "0.8290809261995917\n"
     ]
    }
   ],
   "source": [
    "linear = linear_model.LinearRegression()\n",
    "linear.fit(x_train, y_train)\n",
    "accuracy = linear.score(x_test, y_test)\n",
    "print(accuracy)"
   ]
  },
  {
   "cell_type": "code",
   "execution_count": 17,
   "metadata": {},
   "outputs": [
    {
     "name": "stdout",
     "output_type": "stream",
     "text": [
      "Coefficient / Slope: \n",
      " [ 0.18020843  0.95713806 -0.17290983 -0.30804316  0.0408971 ]\n",
      "Intercept: \n",
      " -1.6127936524296924\n"
     ]
    }
   ],
   "source": [
    "print(\"Coefficient / Slope: \\n\", linear.coef_)\n",
    "print(\"Intercept: \\n\", linear.intercept_)"
   ]
  },
  {
   "cell_type": "code",
   "execution_count": 20,
   "metadata": {},
   "outputs": [
    {
     "name": "stdout",
     "output_type": "stream",
     "text": [
      "9.29981730647145 [ 8 10  2  0  6] 10\n",
      "7.313068436520409 [8 8 1 0 0] 11\n",
      "19.360020471874442 [18 18  1  1 24] 18\n",
      "8.95303219795756 [10 10  3  2  8] 10\n",
      "8.260885052838482 [8 9 2 0 4] 10\n",
      "8.621301908632649 [10  9  2  0  4] 9\n",
      "13.471807956963913 [12 14  3  0  1] 15\n",
      "3.891707521715542 [5 5 2 0 4] 6\n",
      "14.91205416227857 [14 15  3  0  4] 16\n",
      "4.910540721410902 [7 6 1 1 0] 0\n",
      "6.183020545572544 [8 7 2 0 0] 8\n",
      "8.111893866902669 [10  9  4  0  0] 0\n",
      "9.350151035800929 [ 9  9  1  0 22] 9\n",
      "9.42980719294116 [ 9 10  3  0  9] 9\n",
      "14.63545434499216 [11 15  1  0  2] 15\n",
      "9.578439970490571 [10 10  2  0  4] 10\n",
      "15.003169799593467 [14 15  2  0  2] 15\n",
      "12.826891056205495 [13 13  2  0  0] 13\n",
      "12.661279825922692 [14 13  4  0  0] 14\n",
      "11.184672930709837 [10 12  2  1  4] 12\n",
      "6.355930374662488 [8 7 1 0 0] 6\n",
      "11.559669867882882 [12 11  1  0 16] 11\n",
      "6.941307288453684 [7 8 4 0 8] 8\n",
      "13.519038201324573 [15 14  3  2  4] 15\n",
      "18.06209101187146 [16 18  3  0  2] 18\n",
      "10.191781220901316 [ 9 11  2  0  0] 12\n",
      "10.725107905785427 [11 11  1  0  0] 10\n",
      "3.3868358859748886 [3 5 2 1 8] 5\n",
      "8.457713525082555 [10  9  2  0  0] 9\n",
      "15.76323616872302 [16 15  3  0 16] 15\n",
      "7.221952799205512 [8 8 2 0 2] 8\n",
      "7.863749098759714 [7 9 1 1 2] 8\n",
      "-1.8087908325239588 [5 0 1 3 0] 0\n",
      "12.069095025848265 [14 12  2  1  8] 12\n",
      "19.468738720105733 [19 19  4  0  4] 20\n",
      "8.393273310662703 [ 7 10  3  1  0] 10\n",
      "5.8205808430456685 [7 7 4 0 4] 6\n",
      "5.675403833249476 [5 8 2 3 0] 7\n",
      "12.067545775404062 [13 11  3  1 40] 11\n",
      "14.92137560781842 [14 15  2  0  0] 15\n"
     ]
    }
   ],
   "source": [
    "predictions = linear.predict(x_test)\n",
    "\n",
    "for x in range(len(predictions)):\n",
    "  print(predictions[x], x_test[x], y_test[x])"
   ]
  },
  {
   "cell_type": "code",
   "execution_count": 22,
   "metadata": {},
   "outputs": [],
   "source": [
    "with open(\"studentgrades.pickle\", \"wb\") as f:\n",
    "  pickle.dump(linear,f)"
   ]
  },
  {
   "cell_type": "code",
   "execution_count": 23,
   "metadata": {},
   "outputs": [],
   "source": [
    "pickle_in = open(\"studentgrades.pickle\", \"rb\")\n",
    "linear = pickle.load(pickle_in)"
   ]
  },
  {
   "cell_type": "code",
   "execution_count": 25,
   "metadata": {},
   "outputs": [
    {
     "name": "stdout",
     "output_type": "stream",
     "text": [
      "Accuracy: 0.8672267631795947\n",
      "Accuracy: 0.8181975024045481\n",
      "Accuracy: 0.8357046648833173\n",
      "Accuracy: 0.7731219007785289\n",
      "Accuracy: 0.7643924113361534\n",
      "Accuracy: 0.8463074482223465\n",
      "Accuracy: 0.7746023086265792\n",
      "Accuracy: 0.848151574140652\n",
      "Accuracy: 0.8304503141701693\n",
      "Accuracy: 0.8054931114091675\n",
      "Accuracy: 0.7985165122727272\n",
      "Accuracy: 0.7433405196426062\n",
      "Accuracy: 0.8551589722288617\n",
      "Accuracy: 0.8508736391978835\n",
      "Accuracy: 0.7851420506361577\n",
      "Accuracy: 0.9294857162521343\n",
      "Accuracy: 0.7878965986367948\n",
      "Accuracy: 0.8234853475866843\n",
      "Accuracy: 0.8988998436608125\n",
      "Accuracy: 0.866301657435961\n"
     ]
    }
   ],
   "source": [
    "best = 0\n",
    "for _ in range(20):\n",
    "  x_train, x_test, y_train, y_test = sklearn.model_selection.train_test_split(X, y, test_size=0.1)\n",
    "\n",
    "  linear = linear_model.LinearRegression()\n",
    "\n",
    "  linear.fit(x_train, y_train)\n",
    "  accuracy = linear.score(x_test, y_test)\n",
    "  print(\"Accuracy: \" + str(accuracy))\n",
    "\n",
    "  if accuracy > best:\n",
    "    best = accuracy\n",
    "    with open(\"studentgrades.pickle\", \"wb\") as f:\n",
    "      pickle.dump(linear, f)\n"
   ]
  },
  {
   "cell_type": "code",
   "execution_count": 26,
   "metadata": {},
   "outputs": [
    {
     "name": "stderr",
     "output_type": "stream",
     "text": [
      "No artists with labels found to put in legend.  Note that artists whose label start with an underscore are ignored when legend() is called with no argument.\n"
     ]
    },
    {
     "data": {
      "image/png": "[encoded data removed]",
      "text/plain": [
       "<Figure size 432x288 with 1 Axes>"
      ]
     },
     "metadata": {
      "needs_background": "light"
     },
     "output_type": "display_data"
    }
   ],
   "source": [
    "plot = \"failures\" # Change this to G1, G2, studytime or absences to see other graphs\n",
    "plt.scatter(data[plot], data[\"G3\"]) \n",
    "plt.legend(loc=4)\n",
    "plt.xlabel(plot)\n",
    "plt.ylabel(\"Final Grade\")\n",
    "plt.show()"
   ]
  }
 ],
 "metadata": {
  "interpreter": {
   "hash": "2d7a9003285a983250f0a926ec3f4bf75fa26e87f4be2beb18a98980514f79dc"
  },
  "kernelspec": {
   "display_name": "Python 3.10.0 64-bit",
   "language": "python",
   "name": "python3"
  },
  "language_info": {
   "codemirror_mode": {
    "name": "ipython",
    "version": 3
   },
   "file_extension": ".py",
   "mimetype": "text/x-python",
   "name": "python",
   "nbconvert_exporter": "python",
   "pygments_lexer": "ipython3",
   "version": "3.10.0"
  },
  "orig_nbformat": 4
 },
 "nbformat": 4,
 "nbformat_minor": 2
}
